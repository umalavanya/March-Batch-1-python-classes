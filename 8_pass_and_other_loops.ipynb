{
 "cells": [
  {
   "cell_type": "markdown",
   "metadata": {},
   "source": [
    "In addition to the break and continue statements, there are a few more control statements and techniques you can use within loops to control their behavior in Python\n",
    "\n",
    "#### pass statement: \n",
    "\n",
    "The pass statement is a placeholder statement that does nothing. \n",
    "It can be used when a statement is syntactically required, but you don't want to execute any code. \n",
    "\n",
    "For example, you can use pass inside a loop when you're working on an incomplete code block that you plan to fill in later."
   ]
  },
  {
   "cell_type": "code",
   "execution_count": 3,
   "metadata": {},
   "outputs": [],
   "source": [
    "for i in range(5):\n",
    "    pass"
   ]
  },
  {
   "cell_type": "markdown",
   "metadata": {},
   "source": [
    "#### else clause in loops: \n",
    "\n",
    "Python allows you to include an else clause in a loop. \n",
    "\n",
    "The code inside the else block is executed when the loop completes normally (i.e., when the loop condition becomes False), but not when the loop is exited via a break statement."
   ]
  },
  {
   "cell_type": "code",
   "execution_count": 3,
   "metadata": {},
   "outputs": [
    {
     "name": "stdout",
     "output_type": "stream",
     "text": [
      "0\n",
      "1\n",
      "2\n",
      "3\n",
      "4\n",
      "Loop completed\n"
     ]
    }
   ],
   "source": [
    "for i in range(5):\n",
    "    print(i)\n",
    "else:\n",
    "    print(\"Loop completed\")"
   ]
  },
  {
   "cell_type": "markdown",
   "metadata": {},
   "source": [
    "In this example, \"Loop completed\" will be printed after all iterations of the loop."
   ]
  },
  {
   "cell_type": "markdown",
   "metadata": {},
   "source": [
    "#### Nested loops: \n",
    "\n",
    "You can have loops within loops. \n",
    "\n",
    "This is called nested loops. \n",
    "\n",
    "It allows you to perform more complex iterations and operations."
   ]
  },
  {
   "cell_type": "code",
   "execution_count": 2,
   "metadata": {},
   "outputs": [
    {
     "name": "stdout",
     "output_type": "stream",
     "text": [
      "0 0\n",
      "0 1\n",
      "0 2\n",
      "1 0\n",
      "1 1\n",
      "1 2\n",
      "2 0\n",
      "2 1\n",
      "2 2\n"
     ]
    }
   ],
   "source": [
    "for i in range(3):\n",
    "    for j in range(3):\n",
    "        print(i, j)\n",
    "        "
   ]
  },
  {
   "cell_type": "markdown",
   "metadata": {},
   "source": [
    "This code uses a nested loop to print combinations of i and j for values 0 to 2."
   ]
  },
  {
   "cell_type": "markdown",
   "metadata": {},
   "source": [
    "#### for...else and while...else with \"found\" flag: \n",
    "\n",
    "You can use an \"found\" flag with a loop to indicate whether a specific condition was met within the loop."
   ]
  },
  {
   "cell_type": "code",
   "execution_count": 1,
   "metadata": {},
   "outputs": [
    {
     "name": "stdout",
     "output_type": "stream",
     "text": [
      "Found apple!\n"
     ]
    }
   ],
   "source": [
    "search_item = \"apple\"\n",
    "fruits = [\"banana\", \"cherry\", \"apple\", \"grape\"]\n",
    "\n",
    "for fruit in fruits:\n",
    "    if fruit == search_item:\n",
    "        print(f\"Found {search_item}!\")\n",
    "        break\n",
    "else:\n",
    "    print(f\"{search_item} not found\")\n",
    "    "
   ]
  },
  {
   "cell_type": "markdown",
   "metadata": {},
   "source": [
    "In this example, the for...else loop checks if \"apple\" is in the list of fruits and provides a message indicating whether it was found.\n",
    "\n",
    "These are some of the additional control statements and techniques you can use with loops to customize their behavior and perform more advanced operations in Python."
   ]
  },
  {
   "cell_type": "markdown",
   "metadata": {},
   "source": [
    "*************************************************\n",
    "In Python, the most commonly used \"for\" loop is the for-in loop, as I explained earlier. \n",
    "\n",
    "However, there are other types of \"for\" loops that can be used in specific situations or for specialized tasks:"
   ]
  },
  {
   "cell_type": "markdown",
   "metadata": {},
   "source": [
    "#### for...in...range loop: \n",
    "\n",
    "You can use a for loop with the range() function to iterate over a range of numbers. The range() function generates a sequence of numbers, and the loop iterates over each value in the sequence."
   ]
  },
  {
   "cell_type": "code",
   "execution_count": 4,
   "metadata": {},
   "outputs": [
    {
     "name": "stdout",
     "output_type": "stream",
     "text": [
      "0\n",
      "1\n",
      "2\n",
      "3\n",
      "4\n"
     ]
    }
   ],
   "source": [
    "for i in range(5):\n",
    "    print(i)\n",
    "# This code will print numbers from 0 to 4. "
   ]
  },
  {
   "cell_type": "markdown",
   "metadata": {},
   "source": [
    "#### for...in...enumerate loop: \n",
    "\n",
    "The enumerate() function can be used with a for loop to iterate through both the index and value of items in an iterable."
   ]
  },
  {
   "cell_type": "code",
   "execution_count": 6,
   "metadata": {},
   "outputs": [
    {
     "name": "stdout",
     "output_type": "stream",
     "text": [
      "Index 0: apple\n",
      "Index 1: banana\n",
      "Index 2: cherry\n"
     ]
    }
   ],
   "source": [
    "# This code will print the index and value of each fruit in the list.\n",
    "\n",
    "fruits = [\"apple\", \"banana\", \"cherry\"]\n",
    "\n",
    "for index, fruit in enumerate(fruits):\n",
    "    \n",
    "    print(f\"Index {index}: {fruit}\")\n",
    "    \n"
   ]
  },
  {
   "cell_type": "markdown",
   "metadata": {},
   "source": [
    "#### for...in...zip loop: \n",
    "\n",
    "The zip() function can be used to iterate over multiple sequences simultaneously by pairing corresponding elements together."
   ]
  },
  {
   "cell_type": "code",
   "execution_count": 15,
   "metadata": {},
   "outputs": [
    {
     "name": "stdout",
     "output_type": "stream",
     "text": [
      "Alice: 95\n",
      "Bob: 87\n",
      "Charlie: 92\n"
     ]
    }
   ],
   "source": [
    "# This code will pair the names and scores together and print them.\n",
    "\n",
    "names = [\"Alice\", \"Bob\", \"Charlie\"]\n",
    "scores = [95, 87, 92]\n",
    "\n",
    "for name, score in zip(names, scores):\n",
    "    print(f\"{name}: {score}\")"
   ]
  },
  {
   "cell_type": "markdown",
   "metadata": {},
   "source": [
    "#### for...in...reversed loop: \n",
    "\n",
    "You can use the reversed() function with a for loop to iterate over a sequence in reverse order."
   ]
  },
  {
   "cell_type": "code",
   "execution_count": 17,
   "metadata": {},
   "outputs": [
    {
     "name": "stdout",
     "output_type": "stream",
     "text": [
      "5\n",
      "4\n",
      "3\n",
      "2\n",
      "1\n"
     ]
    }
   ],
   "source": [
    "# This code will print the numbers in reverse order.\n",
    "\n",
    "numbers = [1, 2, 3, 4, 5]\n",
    "\n",
    "for num in reversed(numbers):\n",
    "    print(num)\n",
    "    \n"
   ]
  },
  {
   "cell_type": "markdown",
   "metadata": {},
   "source": [
    "#### for...in...sorted loop: \n",
    "\n",
    "The sorted() function can be used to iterate over a sequence in sorted order."
   ]
  },
  {
   "cell_type": "code",
   "execution_count": 20,
   "metadata": {},
   "outputs": [
    {
     "name": "stdout",
     "output_type": "stream",
     "text": [
      "1\n",
      "2\n",
      "3\n",
      "4\n",
      "5\n"
     ]
    }
   ],
   "source": [
    "# This code will print the numbers in ascending order.\n",
    "numbers = [5, 2, 4, 1, 3]\n",
    "for num in sorted(numbers):\n",
    "    print(num)"
   ]
  },
  {
   "cell_type": "markdown",
   "metadata": {},
   "source": [
    "These are some alternative ways to use \"for\" loops in Python, depending on your specific needs and the data you're working with. Each type of \"for\" loop provides a different way to iterate over data and perform tasks within your code."
   ]
  }
 ],
 "metadata": {
  "kernelspec": {
   "display_name": "Python 3",
   "language": "python",
   "name": "python3"
  },
  "language_info": {
   "codemirror_mode": {
    "name": "ipython",
    "version": 3
   },
   "file_extension": ".py",
   "mimetype": "text/x-python",
   "name": "python",
   "nbconvert_exporter": "python",
   "pygments_lexer": "ipython3",
   "version": "3.8.8"
  }
 },
 "nbformat": 4,
 "nbformat_minor": 4
}
