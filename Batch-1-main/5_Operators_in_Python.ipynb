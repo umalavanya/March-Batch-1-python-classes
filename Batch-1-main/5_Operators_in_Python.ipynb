{
 "cells": [
  {
   "cell_type": "markdown",
   "metadata": {},
   "source": [
    "# Operators in Python"
   ]
  },
  {
   "cell_type": "markdown",
   "metadata": {},
   "source": [
    "#### 1. Arithmetic Operators:\n",
    "\n",
    "These operators perform mathematical operations on numbers.\n",
    "\n",
    "`+`   Addition \n",
    "\n",
    "`-`   Subtraction \n",
    "\n",
    "`*`   Multiplication \n",
    "\n",
    "`/ `  Division \n",
    "\n",
    "`%`   Modulo, returns the remainder \n",
    "\n",
    "`**`  Exponentiation, raises a number to a power \n"
   ]
  },
  {
   "cell_type": "code",
   "execution_count": 1,
   "metadata": {},
   "outputs": [
    {
     "name": "stdout",
     "output_type": "stream",
     "text": [
      "13\n",
      "7\n",
      "30\n",
      "3.3333333333333335\n",
      "1\n",
      "1000\n"
     ]
    }
   ],
   "source": [
    "a = 10\n",
    "b = 3\n",
    "\n",
    "addition = a + b\n",
    "subtraction = a - b\n",
    "multiplication = a * b\n",
    "division = a / b\n",
    "modulo = a % b\n",
    "exponentiation = a ** b\n",
    "\n",
    "print(addition)  # Output: 13\n",
    "print(subtraction)  # Output: 7\n",
    "print(multiplication)  # Output: 30\n",
    "print(division)  # Output: 3.3333333333333335\n",
    "print(modulo)  # Output: 1\n",
    "print(exponentiation)  # Output: 1000"
   ]
  },
  {
   "cell_type": "markdown",
   "metadata": {},
   "source": [
    "#### 2. Comparison Operators:\n",
    "\n",
    "These operators compare values and return a Boolean result.\n",
    "\n",
    "`==`      Equal \n",
    "\n",
    "`!=`      Not Equal \n",
    "\n",
    "`<`       Less Than\n",
    "\n",
    "`>`       Greater Than\n",
    "\n",
    "`<=`      Less Than or Equal To\n",
    "\n",
    "`>=`      Greater Than or Equal To\n"
   ]
  },
  {
   "cell_type": "code",
   "execution_count": 2,
   "metadata": {},
   "outputs": [
    {
     "name": "stdout",
     "output_type": "stream",
     "text": [
      "False\n",
      "True\n",
      "True\n",
      "False\n",
      "True\n",
      "False\n"
     ]
    }
   ],
   "source": [
    "x = 5\n",
    "y = 10\n",
    "\n",
    "equal = x == y \n",
    "not_equal = x != y\n",
    "less_than = x < y\n",
    "greater_than = x > y\n",
    "less_than_or_equal = x <= y\n",
    "greater_than_or_equal = x >= y\n",
    "\n",
    "print(equal)  # Output: False\n",
    "print(not_equal)  # Output: True\n",
    "print(less_than)  # Output: True\n",
    "print(greater_than)  # Output: False\n",
    "print(less_than_or_equal)  # Output: True\n",
    "print(greater_than_or_equal)  # Output: False"
   ]
  },
  {
   "cell_type": "markdown",
   "metadata": {},
   "source": [
    "#### 3. Logical Operators:\n",
    "\n",
    "These operators perform logical operations on Boolean values.\n",
    "\n",
    "`and`    Logical AND \n",
    "\n",
    "`or `    Logical OR \n",
    "\n",
    "`not`    Logical NOT \n"
   ]
  },
  {
   "cell_type": "code",
   "execution_count": 3,
   "metadata": {},
   "outputs": [
    {
     "name": "stdout",
     "output_type": "stream",
     "text": [
      "False\n",
      "True\n",
      "False\n"
     ]
    }
   ],
   "source": [
    "a = True\n",
    "b = False\n",
    "\n",
    "logical_and = a and b\n",
    "logical_or = a or b\n",
    "logical_not = not a\n",
    "\n",
    "print(logical_and)  # Output: False\n",
    "print(logical_or)  # Output: True\n",
    "print(logical_not)  # Output: False"
   ]
  },
  {
   "cell_type": "markdown",
   "metadata": {},
   "source": [
    "#### 4. Assignment Operators:\n",
    "\n",
    "These operators combine an arithmetic operation with assignment.\n",
    "\n",
    "`+=`      Add and Assign \n",
    "\n",
    "`-=`      Subtract and Assign \n",
    "\n",
    "`*=`      Multiply and Assign \n",
    "\n",
    "`/= `     Divide and Assign \n",
    "\n",
    "`%= `     Modulo and Assign \n",
    "\n"
   ]
  },
  {
   "cell_type": "code",
   "execution_count": 4,
   "metadata": {},
   "outputs": [
    {
     "name": "stdout",
     "output_type": "stream",
     "text": [
      "15\n",
      "17\n"
     ]
    }
   ],
   "source": [
    "x = 10\n",
    "x += 5  # Equivalent to x = x + 5\n",
    "\n",
    "y = 20\n",
    "y -= 3  # Equivalent to y = y - 3\n",
    "\n",
    "print(x)  # Output: 15\n",
    "print(y)  # Output: 17"
   ]
  },
  {
   "cell_type": "markdown",
   "metadata": {},
   "source": [
    "#### 5. Bitwise Operators:\n",
    "\n",
    "These operators perform bitwise operations on integers.\n",
    "\n",
    "`&`  Bitwise AND \n",
    "\n",
    "`| ` Bitwise OR \n",
    "\n",
    "`^ ` Bitwise XOR \n",
    "\n",
    "`<<`  Left Shift \n",
    "\n",
    "`>>`  Right Shift \n"
   ]
  },
  {
   "cell_type": "code",
   "execution_count": 5,
   "metadata": {},
   "outputs": [
    {
     "name": "stdout",
     "output_type": "stream",
     "text": [
      "1\n",
      "7\n",
      "6\n",
      "20\n",
      "2\n"
     ]
    }
   ],
   "source": [
    "a = 5\n",
    "b = 3\n",
    "\n",
    "bitwise_and = a & b\n",
    "bitwise_or = a | b\n",
    "bitwise_xor = a ^ b\n",
    "left_shift = a << 2\n",
    "right_shift = a >> 1\n",
    "\n",
    "print(bitwise_and)  # Output: 1\n",
    "print(bitwise_or)  # Output: 7\n",
    "print(bitwise_xor)  # Output: 6\n",
    "print(left_shift)  # Output: 20\n",
    "print(right_shift)  # Output: 2"
   ]
  },
  {
   "cell_type": "markdown",
   "metadata": {},
   "source": [
    "#### 6.Membership Operators:\n",
    "\n",
    "These operators test for membership in sequences.\n",
    "\n",
    "`in ` True if a value is found in the sequence \n",
    "\n",
    "`not in`  True if a value is not found in the sequence "
   ]
  },
  {
   "cell_type": "code",
   "execution_count": null,
   "metadata": {},
   "outputs": [],
   "source": [
    "my_list = [1, 2, 3, 4, 5]\n",
    "\n",
    "is_in = 3 in my_list\n",
    "not_in = 6 not in my_list\n",
    "\n",
    "print(is_in)  # Output: True\n",
    "print(not_in)  # Output: True"
   ]
  },
  {
   "cell_type": "markdown",
   "metadata": {},
   "source": [
    "#### 7. Identity Operators:\n",
    "\n",
    "These operators compare the memory location of objects.\n",
    "\n",
    "`is`  True if two variables reference the same object \n",
    "\n",
    "`is not ` True if two variables reference different objects "
   ]
  },
  {
   "cell_type": "code",
   "execution_count": 7,
   "metadata": {},
   "outputs": [
    {
     "name": "stdout",
     "output_type": "stream",
     "text": [
      "True\n",
      "True\n"
     ]
    }
   ],
   "source": [
    "x = [1, 2, 3]\n",
    "y = x\n",
    "z = [1, 2, 3]\n",
    "\n",
    "is_same = x is y\n",
    "is_different = x is not z\n",
    "\n",
    "print(is_same)  # Output: True\n",
    "print(is_different)  # Output: True"
   ]
  },
  {
   "cell_type": "markdown",
   "metadata": {},
   "source": [
    "These operators are essential for various operations in Python, from simple mathematical calculations to complex decision-making and data manipulation."
   ]
  }
 ],
 "metadata": {
  "kernelspec": {
   "display_name": "Python 3",
   "language": "python",
   "name": "python3"
  },
  "language_info": {
   "codemirror_mode": {
    "name": "ipython",
    "version": 3
   },
   "file_extension": ".py",
   "mimetype": "text/x-python",
   "name": "python",
   "nbconvert_exporter": "python",
   "pygments_lexer": "ipython3",
   "version": "3.8.3"
  }
 },
 "nbformat": 4,
 "nbformat_minor": 4
}
