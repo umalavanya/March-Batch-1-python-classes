{
 "cells": [
  {
   "cell_type": "markdown",
   "metadata": {},
   "source": [
    "# Python Problem set -1 : strings, lists, type casting and coercing"
   ]
  },
  {
   "cell_type": "markdown",
   "metadata": {},
   "source": [
    "## Day 1:"
   ]
  },
  {
   "cell_type": "markdown",
   "metadata": {},
   "source": [
    "### P1_strings.py"
   ]
  },
  {
   "cell_type": "code",
   "execution_count": 17,
   "metadata": {},
   "outputs": [
    {
     "name": "stdout",
     "output_type": "stream",
     "text": [
      "This is a single-quoted string.\n",
      "This is a double-quoted string.\n",
      "This is a multiline\n",
      "string created with triple quotes.\n",
      "This is a string with a newline character:\n",
      "Newline\n",
      "John Doe\n",
      "Hello\n",
      "This string contains a tab \t,\n",
      "a newline ***************************,and a backslash \\.\n"
     ]
    }
   ],
   "source": [
    "# Using single quotes\n",
    "single_quoted_string = 'This is a single-quoted string.'\n",
    "\n",
    "# Using double quotes\n",
    "double_quoted_string = \"This is a double-quoted string.\"\n",
    "\n",
    "# Using triple quotes for multiline strings\n",
    "multiline_string = '''This is a multiline\n",
    "string created with triple quotes.'''\n",
    "\n",
    "# Using escape sequences\n",
    "escaped_string = \"This is a string with a newline character:\\nNewline\"\n",
    "\n",
    "# Concatenating strings\n",
    "first_name = \"John\"\n",
    "last_name = \"Doe\"\n",
    "full_name = first_name + \" \"+ last_name\n",
    "\n",
    "# String slicing\n",
    "text = \"Hello, World!\"\n",
    "substring = text[0:5]  # Extracts \"Hello\"\n",
    "\n",
    "# Using special characters with escape sequences\n",
    "special_characters = \"This string contains a tab \\t,\\na newline ***************************,and a backslash \\\\.\"\n",
    "\n",
    "# Printing the results\n",
    "print(single_quoted_string)\n",
    "print(double_quoted_string)\n",
    "print(multiline_string)\n",
    "print(escaped_string)\n",
    "print(full_name)\n",
    "print(substring)\n",
    "print(special_characters)\n"
   ]
  },
  {
   "cell_type": "code",
   "execution_count": null,
   "metadata": {},
   "outputs": [],
   "source": []
  },
  {
   "cell_type": "code",
   "execution_count": null,
   "metadata": {},
   "outputs": [],
   "source": []
  },
  {
   "cell_type": "markdown",
   "metadata": {},
   "source": [
    "### P2_strings.py"
   ]
  },
  {
   "cell_type": "code",
   "execution_count": 4,
   "metadata": {},
   "outputs": [
    {
     "name": "stdout",
     "output_type": "stream",
     "text": [
      "Original Text:    Python Programming is fun!   \n",
      "Lowercase Text:    python programming is fun!   \n",
      "Uppercase Text:    PYTHON PROGRAMMING IS FUN!   \n",
      "Stripped Text: Python Programming is fun!\n",
      "Word List: ['Python', 'Programming', 'is', 'fun!']\n",
      "Joined Text: Python-Programming-is-fun!\n",
      "Replaced Text:    Java Programming is fun!   \n",
      "Starts with '   Python': True\n",
      "Ends with 'fun!   ': True\n",
      "Index of 'Programming': 10\n",
      "Count of 'i': 2\n",
      "Is Alpha: False\n",
      "Is Numeric: False\n",
      "Is Alphanumeric: False\n",
      "Is Whitespace: False\n",
      "Title Case Text:    Python Programming Is Fun!   \n",
      "Reversed Text:    !nuf si gnimmargorP nohtyP   \n"
     ]
    }
   ],
   "source": [
    "text = \"   Python Programming is fun!   \"\n",
    "\n",
    "# Convert to lowercase\n",
    "lowercase_text = text.lower()\n",
    "\n",
    "# Convert to uppercase\n",
    "uppercase_text = text.upper()\n",
    "\n",
    "# Remove leading and trailing whitespaces\n",
    "stripped_text = text.strip()\n",
    "\n",
    "# Split the string into a list of words\n",
    "word_list = text.split()\n",
    "\n",
    "# Join the list of words into a single string with a different separator\n",
    "joined_text = \"-\".join(word_list)\n",
    "\n",
    "# Replace a substring with another substring\n",
    "replaced_text = text.replace(\"Python\", \"Java\")\n",
    "\n",
    "# Check if the string starts with a specific prefix\n",
    "starts_with = text.startswith(\"   Python\")\n",
    "\n",
    "# Check if the string ends with a specific suffix\n",
    "ends_with = text.endswith(\"fun!   \")\n",
    "\n",
    "# Find the index of a substring in the string\n",
    "index = text.find(\"Programming\")\n",
    "\n",
    "# Count the occurrences of a substring in the string\n",
    "count = text.count(\"i\")\n",
    "\n",
    "# Check if the string contains only alphabetic characters\n",
    "is_alpha = text.isalpha()\n",
    "\n",
    "# Check if the string contains only numeric characters\n",
    "is_numeric = text.isnumeric()\n",
    "\n",
    "# Check if the string contains only alphanumeric characters\n",
    "is_alphanumeric = text.isalnum()\n",
    "\n",
    "# Check if the string is composed of whitespace characters\n",
    "is_whitespace = text.isspace()\n",
    "\n",
    "# Capitalize the first letter of each word\n",
    "capitalized_text = text.title()\n",
    "\n",
    "# Reversing the string\n",
    "reversed_text = text[::-1]\n",
    "\n",
    "# Printing the results\n",
    "print(\"Original Text:\", text)\n",
    "print(\"Lowercase Text:\", lowercase_text)\n",
    "print(\"Uppercase Text:\", uppercase_text)\n",
    "print(\"Stripped Text:\", stripped_text)\n",
    "print(\"Word List:\", word_list)\n",
    "print(\"Joined Text:\", joined_text)\n",
    "print(\"Replaced Text:\", replaced_text)\n",
    "print(\"Starts with '   Python':\", starts_with)\n",
    "print(\"Ends with 'fun!   ':\", ends_with)\n",
    "print(\"Index of 'Programming':\", index)\n",
    "print(\"Count of 'i':\", count)\n",
    "print(\"Is Alpha:\", is_alpha)\n",
    "print(\"Is Numeric:\", is_numeric)\n",
    "print(\"Is Alphanumeric:\", is_alphanumeric)\n",
    "print(\"Is Whitespace:\", is_whitespace)\n",
    "print(\"Title Case Text:\", capitalized_text)\n",
    "print(\"Reversed Text:\", reversed_text)\n"
   ]
  },
  {
   "cell_type": "markdown",
   "metadata": {},
   "source": [
    "## Day 2: "
   ]
  },
  {
   "cell_type": "markdown",
   "metadata": {},
   "source": [
    "### P3_lists.py"
   ]
  },
  {
   "cell_type": "code",
   "execution_count": 5,
   "metadata": {},
   "outputs": [
    {
     "name": "stdout",
     "output_type": "stream",
     "text": [
      "Empty List: []\n",
      "Fruits: ['apple', 'banana', 'cherry']\n",
      "Numbers: [1, 2, 3, 4, 5]\n",
      "Mixed List: ['apple', 3, 9.99, True]\n",
      "Fruits (constructor): ['apple', 'banana', 'cherry']\n",
      "Matrix: [[1, 2, 3], [4, 5, 6], [7, 8, 9]]\n",
      "Zeros: [0, 0, 0, 0, 0]\n",
      "Squares: [1, 4, 9, 16, 25]\n",
      "Numbers (range): [1, 2, 3, 4, 5]\n"
     ]
    }
   ],
   "source": [
    "# Creating an empty list\n",
    "empty_list = []\n",
    "\n",
    "# Creating a list with values\n",
    "fruits = ['apple', 'banana', 'cherry']\n",
    "numbers = [1, 2, 3, 4, 5]\n",
    "mixed_list = ['apple', 3, 9.99, True]\n",
    "\n",
    "# Creating a list using the list() constructor\n",
    "fruits_constructor = list(['apple', 'banana', 'cherry'])\n",
    "\n",
    "# Creating nested lists (lists within lists)\n",
    "matrix = [[1, 2, 3], [4, 5, 6], [7, 8, 9]]\n",
    "\n",
    "\n",
    "# Creating a list with a repeated value\n",
    "zeros = [0] * 5  # Creates a list with five 0s\n",
    "\n",
    "# Creating a list using list comprehension\n",
    "squares = [x ** 2 for x in range(1, 6)]  # Creates a list of squares [1, 4, 9, 16, 25]\n",
    "\n",
    "# Creating a list using the range() function (Python 3)\n",
    "numbers_range = list(range(1, 6))  # Creates a list [1, 2, 3, 4, 5]\n",
    "\n",
    "# Printing the lists\n",
    "print(\"Empty List:\", empty_list)\n",
    "print(\"Fruits:\", fruits)\n",
    "print(\"Numbers:\", numbers)\n",
    "print(\"Mixed List:\", mixed_list)\n",
    "print(\"Fruits (constructor):\", fruits_constructor)\n",
    "print(\"Matrix:\", matrix)\n",
    "print(\"Zeros:\", zeros)\n",
    "print(\"Squares:\", squares)\n",
    "print(\"Numbers (range):\", numbers_range)\n"
   ]
  },
  {
   "cell_type": "code",
   "execution_count": null,
   "metadata": {},
   "outputs": [],
   "source": []
  },
  {
   "cell_type": "markdown",
   "metadata": {},
   "source": [
    "### P4_lists.py"
   ]
  },
  {
   "cell_type": "code",
   "execution_count": 6,
   "metadata": {},
   "outputs": [
    {
     "name": "stdout",
     "output_type": "stream",
     "text": [
      "First Fruit: apple\n",
      "Second Fruit: banana\n",
      "Last Fruit: strawberry\n",
      "Penultimate Fruit: date\n",
      "Sliced Fruits: ['banana', 'cherry', 'date']\n",
      "Sliced Fruits2: ['cherry', 'date', 'strawberry']\n",
      "Sliced Fruits3: ['apple', 'banana', 'cherry']\n",
      "Element in Matrix: 6\n"
     ]
    }
   ],
   "source": [
    "# Creating a list\n",
    "fruits = ['apple', 'banana', 'cherry', 'date', 'strawberry']\n",
    "\n",
    "# Accessing elements by index\n",
    "first_fruit = fruits[0]  # Index 0 (first element)\n",
    "second_fruit = fruits[1]  # Index 1 (second element)\n",
    "last_fruit = fruits[-1]  # Index -1 (last element)\n",
    "penultimate_fruit = fruits[-2]  # Index -2 (second-to-last element)\n",
    "\n",
    "# Slicing a list\n",
    "sliced_fruits = fruits[1:4]  # Elements at index 1, 2, and 3\n",
    "sliced_fruits2 = fruits[2:]  # Elements from index 2 to the end\n",
    "sliced_fruits3 = fruits[:3]  # Elements from the beginning up to (but not including) index 3\n",
    "\n",
    "# Accessing elements in nested lists\n",
    "matrix = [[1, 2, 3], [4, 5, 6], [7, 8, 9]]\n",
    "element = matrix[1][2]  # Access the element at row 1, column 2\n",
    "\n",
    "# Printing the results\n",
    "print(\"First Fruit:\", first_fruit)\n",
    "print(\"Second Fruit:\", second_fruit)\n",
    "print(\"Last Fruit:\", last_fruit)\n",
    "print(\"Penultimate Fruit:\", penultimate_fruit)\n",
    "print(\"Sliced Fruits:\", sliced_fruits)\n",
    "print(\"Sliced Fruits2:\", sliced_fruits2)\n",
    "print(\"Sliced Fruits3:\", sliced_fruits3)\n",
    "print(\"Element in Matrix:\", element)\n"
   ]
  },
  {
   "cell_type": "code",
   "execution_count": null,
   "metadata": {},
   "outputs": [],
   "source": []
  },
  {
   "cell_type": "markdown",
   "metadata": {},
   "source": [
    "### P5_lists.py"
   ]
  },
  {
   "cell_type": "code",
   "execution_count": 7,
   "metadata": {},
   "outputs": [
    {
     "name": "stdout",
     "output_type": "stream",
     "text": [
      "Modified List: ['orange', 'pear', 'quince']\n",
      "Removed Element: grape\n"
     ]
    }
   ],
   "source": [
    "# Creating a list\n",
    "fruits = ['apple', 'banana', 'cherry', 'date', 'strawberry']\n",
    "\n",
    "# Appending an element to the end\n",
    "fruits.append('fig')\n",
    "\n",
    "# Inserting an element at a specific index\n",
    "fruits.insert(2, 'grape')\n",
    "\n",
    "# Extending a list with another list\n",
    "fruits.extend(['honeydew', 'kiwi'])\n",
    "\n",
    "# Updating an element by index\n",
    "fruits[4] = 'dragon fruit'\n",
    "\n",
    "# Removing an element by value\n",
    "fruits.remove('cherry')\n",
    "\n",
    "# Removing an element by index\n",
    "removed_fruit = fruits.pop(2)\n",
    "\n",
    "# Clearing the entire list\n",
    "fruits.clear()\n",
    "\n",
    "# Reassigning a new list to the variable\n",
    "fruits = ['orange', 'pear', 'quince']\n",
    "\n",
    "# Printing the modified list\n",
    "print(\"Modified List:\", fruits)\n",
    "\n",
    "# Printing the removed element\n",
    "print(\"Removed Element:\", removed_fruit)\n"
   ]
  },
  {
   "cell_type": "code",
   "execution_count": null,
   "metadata": {},
   "outputs": [],
   "source": []
  },
  {
   "cell_type": "markdown",
   "metadata": {},
   "source": [
    "## Day 3: "
   ]
  },
  {
   "cell_type": "markdown",
   "metadata": {},
   "source": [
    "### P6_type_casting.py"
   ]
  },
  {
   "cell_type": "code",
   "execution_count": 9,
   "metadata": {},
   "outputs": [
    {
     "name": "stdout",
     "output_type": "stream",
     "text": [
      "Type-casting examples:\n",
      "Integer to String: 42\n",
      "String to Integer: 123\n",
      "String to Float: 3.14\n",
      "\n",
      "Modified List with Type Casting:\n",
      "['1', 'apple', 3, True]\n"
     ]
    }
   ],
   "source": [
    "# Type casting (converting data types)\n",
    "# Integer to string\n",
    "num = 42\n",
    "num_as_str = str(num)\n",
    "\n",
    "# String to integer\n",
    "str_num = \"123\"\n",
    "str_as_int = int(str_num)\n",
    "\n",
    "# String to float\n",
    "str_num_float = \"3.14\"\n",
    "str_as_float = float(str_num_float)\n",
    "\n",
    "# Modifying lists with different data types\n",
    "mixed_list = [1, \"apple\", 3.14, True]\n",
    "\n",
    "# Type casting within a list\n",
    "mixed_list[0] = str(mixed_list[0])  # Integer to string\n",
    "mixed_list[2] = int(mixed_list[2])  # String to integer\n",
    "mixed_list[3] = bool(mixed_list[3])  # String to boolean\n",
    "\n",
    "# Printing the type-casted variables and the modified list\n",
    "print(\"Type-casting examples:\")\n",
    "print(\"Integer to String:\", num_as_str)\n",
    "print(\"String to Integer:\", str_as_int)\n",
    "print(\"String to Float:\", str_as_float)\n",
    "\n",
    "print(\"\\nModified List with Type Casting:\")\n",
    "print(mixed_list)\n"
   ]
  },
  {
   "cell_type": "code",
   "execution_count": null,
   "metadata": {},
   "outputs": [],
   "source": []
  },
  {
   "cell_type": "code",
   "execution_count": null,
   "metadata": {},
   "outputs": [],
   "source": []
  },
  {
   "cell_type": "markdown",
   "metadata": {},
   "source": [
    "### P7_coercing.py"
   ]
  },
  {
   "cell_type": "code",
   "execution_count": 10,
   "metadata": {},
   "outputs": [
    {
     "name": "stdout",
     "output_type": "stream",
     "text": [
      "Result of num_int + num_float: 15.5\n",
      "Result of str_num + str_float: 423.14\n",
      "Result of bool_value and num_value: 0\n"
     ]
    }
   ],
   "source": [
    "# Coercion example\n",
    "num_int = 10\n",
    "num_float = 5.5\n",
    "\n",
    "# Addition with coercion: int + float\n",
    "result = num_int + num_float\n",
    "\n",
    "# The result will be a float, as Python coerces the integer to a float for the addition.\n",
    "print(\"Result of num_int + num_float:\", result)\n",
    "\n",
    "# Coercion in string concatenation\n",
    "str_num = \"42\"\n",
    "str_float = \"3.14\"\n",
    "\n",
    "# String concatenation with coercion: str + str\n",
    "concatenated = str_num + str_float\n",
    "\n",
    "# The result will be a string, as Python coerces the values to strings for concatenation.\n",
    "print(\"Result of str_num + str_float:\", concatenated)\n",
    "\n",
    "# Coercion in boolean operations\n",
    "bool_value = True\n",
    "num_value = 0\n",
    "\n",
    "# Boolean operation with coercion: bool and int\n",
    "logical_and = bool_value and num_value\n",
    "\n",
    "# The result will be an integer (0), as Python coerces the boolean to an integer for the 'and' operation.\n",
    "print(\"Result of bool_value and num_value:\", logical_and)\n"
   ]
  },
  {
   "cell_type": "code",
   "execution_count": null,
   "metadata": {},
   "outputs": [],
   "source": []
  },
  {
   "cell_type": "code",
   "execution_count": null,
   "metadata": {},
   "outputs": [],
   "source": []
  }
 ],
 "metadata": {
  "kernelspec": {
   "display_name": "Python 3",
   "language": "python",
   "name": "python3"
  },
  "language_info": {
   "codemirror_mode": {
    "name": "ipython",
    "version": 3
   },
   "file_extension": ".py",
   "mimetype": "text/x-python",
   "name": "python",
   "nbconvert_exporter": "python",
   "pygments_lexer": "ipython3",
   "version": "3.8.3"
  }
 },
 "nbformat": 4,
 "nbformat_minor": 4
}
