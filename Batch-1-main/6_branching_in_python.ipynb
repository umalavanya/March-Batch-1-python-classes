{
 "cells": [
  {
   "cell_type": "markdown",
   "metadata": {},
   "source": [
    "# Conditional statements in Python (Branching)"
   ]
  },
  {
   "cell_type": "markdown",
   "metadata": {},
   "source": [
    "Branching in Python refers to the ability to make decisions and execute different blocks of code based on certain conditions. \n",
    "\n",
    "Python provides two main constructs for branching: the if statement and the else statement."
   ]
  },
  {
   "cell_type": "markdown",
   "metadata": {},
   "source": [
    "#### 1. if..... Statement:\n",
    "The if statement is used to execute a block of code only if a specific condition is true."
   ]
  },
  {
   "cell_type": "code",
   "execution_count": 6,
   "metadata": {},
   "outputs": [
    {
     "name": "stdout",
     "output_type": "stream",
     "text": [
      "x is greater than 5\n"
     ]
    }
   ],
   "source": [
    "x = 10\n",
    "\n",
    "if x > 5:\n",
    "    print(\"x is greater than 5\")"
   ]
  },
  {
   "cell_type": "markdown",
   "metadata": {},
   "source": [
    "In this example, the code inside the if block is executed because the condition x > 5 is true. \n",
    "\n",
    "If the condition is false, the code inside the if block is skipped."
   ]
  },
  {
   "cell_type": "markdown",
   "metadata": {},
   "source": [
    "#### 2. if...else.... Statement:\n",
    "The else statement is often used in conjunction with the if statement.\n",
    "\n",
    "It allows you to specify an alternative block of code to execute when the if condition is false."
   ]
  },
  {
   "cell_type": "code",
   "execution_count": 7,
   "metadata": {},
   "outputs": [
    {
     "name": "stdout",
     "output_type": "stream",
     "text": [
      "x is not greater than 5\n"
     ]
    }
   ],
   "source": [
    "x = 3\n",
    "\n",
    "if x > 5:\n",
    "    print(\"x is greater than 5\")\n",
    "else:\n",
    "    print(\"x is not greater than 5\")"
   ]
  },
  {
   "cell_type": "markdown",
   "metadata": {},
   "source": [
    "In this example, because the condition x > 5 is false, the code inside the else block is executed."
   ]
  },
  {
   "cell_type": "markdown",
   "metadata": {},
   "source": [
    "#### 3. if.... elif...... else  Statement:\n",
    "You can use the elif (short for \"else if\") statement to check multiple conditions sequentially."
   ]
  },
  {
   "cell_type": "code",
   "execution_count": 8,
   "metadata": {},
   "outputs": [
    {
     "name": "stdout",
     "output_type": "stream",
     "text": [
      "x is less than 5\n"
     ]
    }
   ],
   "source": [
    "x = 3\n",
    "\n",
    "if x > 5:\n",
    "    print(\"x is greater than 5\")\n",
    "elif x == 5:\n",
    "    print(\"x is equal to 5\")\n",
    "else:\n",
    "    print(\"x is less than 5\")\n",
    "    "
   ]
  },
  {
   "cell_type": "markdown",
   "metadata": {},
   "source": [
    "The elif statement allows you to test additional conditions if the previous if or elif conditions are false. You can have multiple elif blocks in an if-elif-else construct."
   ]
  },
  {
   "cell_type": "markdown",
   "metadata": {},
   "source": [
    "#### 4.Nested if Statements:\n",
    "\n",
    "You can also nest if statements within each other to create more complex branching logic."
   ]
  },
  {
   "cell_type": "code",
   "execution_count": 9,
   "metadata": {},
   "outputs": [
    {
     "name": "stdout",
     "output_type": "stream",
     "text": [
      "Both x and y are greater than 5 and 3.\n"
     ]
    }
   ],
   "source": [
    "x = 10\n",
    "y = 5\n",
    "\n",
    "if x > 5:\n",
    "    if y > 3:\n",
    "        print(\"Both x and y are greater than 5 and 3.\")\n",
    "    else:\n",
    "        print(\"x is greater than 5, but y is not greater than 3.\")\n",
    "else:\n",
    "    print(\"x is not greater than 5.\")"
   ]
  },
  {
   "cell_type": "markdown",
   "metadata": {},
   "source": [
    "In this example, the code within the inner if statement is executed if the condition x > 5 is true, and the condition y > 3 is also true."
   ]
  },
  {
   "cell_type": "markdown",
   "metadata": {},
   "source": [
    "#### 5. Ternary Operator:\n",
    "Python also provides a shorthand way to express conditional statements using the ternary operator:"
   ]
  },
  {
   "cell_type": "code",
   "execution_count": 14,
   "metadata": {},
   "outputs": [
    {
     "name": "stdout",
     "output_type": "stream",
     "text": [
      "Less or Equal\n"
     ]
    }
   ],
   "source": [
    "x = 5\n",
    "result = \"Greater\" if x > 5 else \"Less or Equal\"\n",
    "print(result)"
   ]
  },
  {
   "cell_type": "markdown",
   "metadata": {},
   "source": [
    "The ternary operator allows you to assign a value to a variable based on a condition in a single line."
   ]
  },
  {
   "cell_type": "markdown",
   "metadata": {},
   "source": [
    "Branching is essential for making decisions and controlling the flow of your program based on different conditions, allowing you to write flexible and responsive code."
   ]
  },
  {
   "cell_type": "code",
   "execution_count": null,
   "metadata": {},
   "outputs": [],
   "source": [
    "for i in range(-10,11):\n",
    "    if (x>=-10) and (x<=-5):\n",
    "        print(f\"{i}: Yes\")\n",
    "    elif (x>-5) and (x<=0):\n",
    "        print(f\"{i}: No\")\n",
    "    elif (x>0) and (x<=5):\n",
    "        print(f\"{i}: Hurrey\")\n",
    "    else:\n",
    "        print(f\"{i}: Eureka\")\n",
    "        "
   ]
  },
  {
   "cell_type": "code",
   "execution_count": null,
   "metadata": {},
   "outputs": [],
   "source": []
  }
 ],
 "metadata": {
  "kernelspec": {
   "display_name": "Python 3",
   "language": "python",
   "name": "python3"
  },
  "language_info": {
   "codemirror_mode": {
    "name": "ipython",
    "version": 3
   },
   "file_extension": ".py",
   "mimetype": "text/x-python",
   "name": "python",
   "nbconvert_exporter": "python",
   "pygments_lexer": "ipython3",
   "version": "3.12.1"
  }
 },
 "nbformat": 4,
 "nbformat_minor": 4
}
