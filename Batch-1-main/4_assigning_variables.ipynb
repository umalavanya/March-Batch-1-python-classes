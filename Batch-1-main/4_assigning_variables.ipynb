{
 "cells": [
  {
   "cell_type": "markdown",
   "metadata": {
    "id": "p7BAQjozxhUP"
   },
   "source": [
    "# Assigning Variables"
   ]
  },
  {
   "cell_type": "markdown",
   "metadata": {
    "id": "ulfF_-AGyGY-"
   },
   "source": [
    "#### 1. Variable Declaration:\n",
    "\n",
    "In Python, you don't need to explicitly declare a variable's data type. You simply assign a value to a variable, and Python determines its data type based on the assigned value. For example:"
   ]
  },
  {
   "cell_type": "code",
   "execution_count": 2,
   "metadata": {
    "id": "dAcHnXglyDZP"
   },
   "outputs": [],
   "source": [
    "\n",
    "age = 25  # age is now an integer\n",
    "name = \"John\"  # name is a string"
   ]
  },
  {
   "cell_type": "markdown",
   "metadata": {
    "id": "lsMsrJ9nyW5G"
   },
   "source": [
    "#### 2. Assignment Operator (=):\n",
    "\n",
    "The assignment operator = is used to assign a value to a variable. It associates a variable with a specific value. For example:"
   ]
  },
  {
   "cell_type": "code",
   "execution_count": 3,
   "metadata": {
    "id": "YyP4WFOvyBQL"
   },
   "outputs": [],
   "source": [
    "x = 10  # Assigning the value 10 to the variable x"
   ]
  },
  {
   "cell_type": "markdown",
   "metadata": {
    "id": "oTwZOnfQyuQi"
   },
   "source": [
    "#### 3. Data Types:\n",
    "\n",
    "Python has various data types, including integers, floating-point numbers, strings, lists, dictionaries, boolean values, and more. Python determines the data type based on the assigned value, but you can also explicitly specify data types if needed."
   ]
  },
  {
   "cell_type": "markdown",
   "metadata": {
    "id": "etPHHF6ny2WW"
   },
   "source": [
    "#### 4. Changing Variable Values:\n",
    "\n",
    "You can change the value of a variable by reassigning it with a new value:"
   ]
  },
  {
   "cell_type": "code",
   "execution_count": 4,
   "metadata": {
    "id": "sEpB2ZS4yd5h"
   },
   "outputs": [],
   "source": [
    "x = 10\n",
    "x = 20.0  # Reassigning x with a new value"
   ]
  },
  {
   "cell_type": "markdown",
   "metadata": {
    "id": "nuH7lcK0zAjm"
   },
   "source": [
    "#### 5. Multiple Assignments:\n",
    "\n",
    "You can assign multiple variables in a single line, separating them with commas:"
   ]
  },
  {
   "cell_type": "code",
   "execution_count": 5,
   "metadata": {
    "id": "Do55Khjfy9h1"
   },
   "outputs": [],
   "source": [
    "a, b, c = 1, 2, 3"
   ]
  },
  {
   "cell_type": "markdown",
   "metadata": {
    "id": "FgoEIRY1zJAe"
   },
   "source": [
    "#### 6. Simultaneous Assigning:\n",
    "Simultaneous assignment is a way to swap the values of two variables without using a temporary variable:"
   ]
  },
  {
   "cell_type": "code",
   "execution_count": 7,
   "metadata": {
    "id": "j0QE4OuuzFg_"
   },
   "outputs": [],
   "source": [
    "x = 5\n",
    "y = 10\n",
    "x, y = y, x  # Swapping the values of x and y"
   ]
  },
  {
   "cell_type": "markdown",
   "metadata": {
    "id": "SpsEkEfYzXpn"
   },
   "source": [
    "#### 7. Unpacking Sequences:\n",
    "\n",
    "You can also use simultaneous assignment to unpack elements from sequences like lists or tuples:"
   ]
  },
  {
   "cell_type": "code",
   "execution_count": 8,
   "metadata": {
    "id": "J2J7NPagzWql"
   },
   "outputs": [],
   "source": [
    "my_list = [1, 2, 3]\n",
    "a, b, c = my_list  # Unpacking the list into variables a, b, and c"
   ]
  },
  {
   "cell_type": "markdown",
   "metadata": {
    "id": "I7__7HK1zhEH"
   },
   "source": [
    "#### 8. Constants:\n",
    "\n",
    "In Python, constants are usually defined by convention using uppercase variable names to indicate that the value should not be changed, although Python doesn't enforce this as a true constant:"
   ]
  },
  {
   "cell_type": "code",
   "execution_count": null,
   "metadata": {
    "id": "FlQt2EKuzoCE"
   },
   "outputs": [],
   "source": [
    "PI = 3.14159265359"
   ]
  },
  {
   "cell_type": "markdown",
   "metadata": {
    "id": "kToKNrGgzqtn"
   },
   "source": [
    "#### 9. Assigning the Result of an Expression to a Variable:\n",
    "\n",
    "You can assign the result of an expression to a variable, allowing you to store and use the computed value later:"
   ]
  },
  {
   "cell_type": "code",
   "execution_count": null,
   "metadata": {
    "id": "i7Bd3GJzzvD_"
   },
   "outputs": [],
   "source": [
    "a = 5\n",
    "b = 7\n",
    "sum_result = a + b  # Assigning the result of the expression to the variable sum_result"
   ]
  },
  {
   "cell_type": "markdown",
   "metadata": {
    "id": "u1c-fspxzyo3"
   },
   "source": [
    "These concepts are fundamental to working with variables and data in Python and are used extensively in programming to store, manipulate, and manage information in your code."
   ]
  }
 ],
 "metadata": {
  "colab": {
   "provenance": []
  },
  "kernelspec": {
   "display_name": "Python 3",
   "language": "python",
   "name": "python3"
  },
  "language_info": {
   "codemirror_mode": {
    "name": "ipython",
    "version": 3
   },
   "file_extension": ".py",
   "mimetype": "text/x-python",
   "name": "python",
   "nbconvert_exporter": "python",
   "pygments_lexer": "ipython3",
   "version": "3.8.3"
  }
 },
 "nbformat": 4,
 "nbformat_minor": 1
}
