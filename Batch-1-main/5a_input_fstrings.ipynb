{
 "cells": [
  {
   "cell_type": "markdown",
   "metadata": {},
   "source": [
    "### input() Function:\n",
    "\n",
    "The input() function is used to take user input in Python. \n",
    "\n",
    "It reads a line from the user, converts the input to a string, and returns that string. \n",
    "\n",
    "Here's a simple example:"
   ]
  },
  {
   "cell_type": "code",
   "execution_count": 5,
   "metadata": {
    "scrolled": true
   },
   "outputs": [
    {
     "name": "stdout",
     "output_type": "stream",
     "text": [
      "Enter your name: Vani\n",
      "Hello, Vani!\n"
     ]
    }
   ],
   "source": [
    "name = input(\"Enter your name: \")\n",
    "print(f\"Hello, {name}!\")"
   ]
  },
  {
   "cell_type": "markdown",
   "metadata": {},
   "source": [
    "In this example:\n",
    "\n",
    "`input(\"Enter your name: \")` prompts the user to enter their name. \n",
    "\n",
    "The text inside the parentheses is the prompt displayed to the user.\n",
    "\n",
    "The entered value is stored in the variable name.\n",
    "\n",
    "The `print(f\"Hello, {name}!\")` statement uses an f-string to format the output by inserting the value of the name variable into the string.\n",
    "\n",
    "Keep in mind that input() always returns a string. \n",
    "\n",
    "If you need to use the input as a number, you'll need to convert it using functions like int() or float()."
   ]
  },
  {
   "cell_type": "markdown",
   "metadata": {},
   "source": [
    "### F-Strings (Formatted String Literals):\n",
    "\n",
    "F-strings, or formatted string literals, provide a concise and convenient way to embed expressions inside string literals. \n",
    "\n",
    "They were introduced in Python 3.6 and are denoted by an 'f' prefix before the string.\n",
    "\n",
    "Here's a basic example:"
   ]
  },
  {
   "cell_type": "code",
   "execution_count": 6,
   "metadata": {},
   "outputs": [
    {
     "name": "stdout",
     "output_type": "stream",
     "text": [
      "My name is Vani and I am 30 years old.\n"
     ]
    }
   ],
   "source": [
    "name = \"Vani\"\n",
    "age = 30\n",
    "print(f\"My name is {name} and I am {age} years old.\")"
   ]
  },
  {
   "cell_type": "markdown",
   "metadata": {},
   "source": [
    "In this example:\n",
    "\n",
    "The f\"...\" syntax indicates that this is an f-string.\n",
    "\n",
    "Expressions inside curly braces {} are evaluated, and their results are inserted into the string.\n",
    "\n",
    "You can perform various operations inside the curly braces, including calling functions, performing arithmetic, and accessing variables."
   ]
  },
  {
   "cell_type": "code",
   "execution_count": 7,
   "metadata": {},
   "outputs": [
    {
     "name": "stdout",
     "output_type": "stream",
     "text": [
      "The area of the rectangle is 15.\n"
     ]
    }
   ],
   "source": [
    "length = 5\n",
    "width = 3\n",
    "area = length * width\n",
    "print(f\"The area of the rectangle is {area}.\")"
   ]
  },
  {
   "cell_type": "markdown",
   "metadata": {},
   "source": [
    "F-strings make code more readable and reduce the need for explicit conversions or concatenation when building strings with variables.\n",
    "\n",
    "Remember to use an f-string whenever you want to include variable values or expressions within a string, and use the input() function to interactively get input from the user during program execution"
   ]
  }
 ],
 "metadata": {
  "kernelspec": {
   "display_name": "Python 3",
   "language": "python",
   "name": "python3"
  },
  "language_info": {
   "codemirror_mode": {
    "name": "ipython",
    "version": 3
   },
   "file_extension": ".py",
   "mimetype": "text/x-python",
   "name": "python",
   "nbconvert_exporter": "python",
   "pygments_lexer": "ipython3",
   "version": "3.8.3"
  }
 },
 "nbformat": 4,
 "nbformat_minor": 4
}
