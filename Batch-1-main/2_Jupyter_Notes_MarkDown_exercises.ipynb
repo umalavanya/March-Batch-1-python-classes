{
 "cells": [
  {
   "cell_type": "markdown",
   "metadata": {},
   "source": [
    "<div style=\"text-align:center; color:blue; font-size:24px;\">\n",
    "My Centered, Blue, and Larger Heading\n",
    "</div>"
   ]
  },
  {
   "cell_type": "markdown",
   "metadata": {},
   "source": [
    "# 1. Top-Level Header\n",
    "## 2. Second-Level Header\n",
    "### 3. Third-Level Header\n",
    "#### 4. Fourth-Level Header\n",
    "##### 5. Fifth-Level Header\n",
    "###### 6. Sixth\n",
    "####### 7. Seventh\n",
    "\n",
    "8. normal text goes like this"
   ]
  },
  {
   "cell_type": "markdown",
   "metadata": {},
   "source": [
    "<u>9. This text is underlined</u>"
   ]
  },
  {
   "cell_type": "markdown",
   "metadata": {},
   "source": [
    "**10. Bold Text**      \n",
    "\n",
    "__Bold Text__"
   ]
  },
  {
   "cell_type": "markdown",
   "metadata": {},
   "source": [
    "*11. Italic Text*\n",
    "\n",
    "*Italic Text*"
   ]
  },
  {
   "cell_type": "markdown",
   "metadata": {},
   "source": [
    "12. Bullet points\n",
    "\n",
    "         1. First item\n",
    "         2. Second item\n",
    "         3. Third item\n"
   ]
  },
  {
   "cell_type": "markdown",
   "metadata": {},
   "source": [
    "13. Bullet points\n",
    "    - Item 1\n",
    "       - Item 1-1\n",
    "            - Item 1-2-1\n",
    "            - Item 1-2-2\n",
    "    - Item 2\n",
    "    - Item 3\n",
    "    * Item 4\n",
    "    * Item 5\n",
    "    * Item 6"
   ]
  },
  {
   "cell_type": "markdown",
   "metadata": {},
   "source": [
    "[14.Visit Google](https://www.google.com/)\n"
   ]
  },
  {
   "cell_type": "markdown",
   "metadata": {},
   "source": [
    "> 15. This is a blockquote."
   ]
  },
  {
   "cell_type": "markdown",
   "metadata": {},
   "source": [
    "16. You can format `inline code` like this. `5+8`\n"
   ]
  },
  {
   "cell_type": "markdown",
   "metadata": {},
   "source": [
    "17. Table creation\n",
    "\n",
    "\n",
    "| **Header 1** | **Header 2** |\n",
    "| -------- | -------- |\n",
    "| 11 | 12 |\n",
    "| 21 | 22|\n"
   ]
  },
  {
   "cell_type": "markdown",
   "metadata": {},
   "source": [
    "~~18. Strikethrough text~~"
   ]
  },
  {
   "cell_type": "markdown",
   "metadata": {},
   "source": [
    "19. This is 2<sup>3</sup>"
   ]
  },
  {
   "cell_type": "markdown",
   "metadata": {},
   "source": [
    "20. H<sub>2</sub>O (Water) is a common example.\n",
    "\n",
    "<p>21. Keys for Jupyter Notebooks </p>\n",
    "<p>Command Mode Keys</p>\n",
    "<p>M - MarkDown Cell </p>\n",
    "<p>R - Raw Cell</p>\n",
    "<p>Y - Code Cell</p>\n",
    "<p>A - insert cell above</p>\n",
    "<p>B - insert cell below</p>\n",
    "<p>Double D's - Delete cell</p> \n",
    "<p>Shift M - merge current and below cells </p>\n",
    "<p>C - copy cells</p>\n",
    "<p>Ctrl+shift+minus - split cells at the cursor</p>\n",
    "\n",
    "\n",
    "\n",
    "<p>Blue Color  : Command Mode</p>\n",
    "<p>Green Color : Edit Mode</p>"
   ]
  },
  {
   "cell_type": "code",
   "execution_count": null,
   "metadata": {},
   "outputs": [],
   "source": []
  }
 ],
 "metadata": {
  "kernelspec": {
   "display_name": "Python 3",
   "language": "python",
   "name": "python3"
  },
  "language_info": {
   "codemirror_mode": {
    "name": "ipython",
    "version": 3
   },
   "file_extension": ".py",
   "mimetype": "text/x-python",
   "name": "python",
   "nbconvert_exporter": "python",
   "pygments_lexer": "ipython3",
   "version": "3.8.3"
  }
 },
 "nbformat": 4,
 "nbformat_minor": 4
}
