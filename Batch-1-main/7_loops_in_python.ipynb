{
 "cells": [
  {
   "cell_type": "markdown",
   "metadata": {},
   "source": [
    "# Loops"
   ]
  },
  {
   "cell_type": "markdown",
   "metadata": {},
   "source": [
    "Loops in Python are control structures that allow you to repeatedly execute a block of code as long as a certain condition is met. \n",
    "\n",
    "Python provides two main types of loops: \"for\" loops and \"while\" loops."
   ]
  },
  {
   "cell_type": "markdown",
   "metadata": {},
   "source": [
    "#### For Loops:\n",
    "\n",
    "A \"for\" loop is used when you want to iterate over a sequence (e.g., a list, tuple, string, or range) or any iterable object. \n",
    "\n",
    "It executes a block of code a specified number of times, once for each item in the sequence.\n",
    "\n",
    "Here's the basic syntax of a \"for\" loop:\n",
    "\n",
    "\n",
    "------------------------------------------------------\n",
    "\n",
    "`for` item `in` iterable:\n",
    "    \n",
    "      # Code to be executed for each item \n",
    "---------------------------------------------------------\n",
    "Here's an example that prints the numbers from 1 to 5:\n"
   ]
  },
  {
   "cell_type": "code",
   "execution_count": null,
   "metadata": {},
   "outputs": [
    {
     "name": "stdout",
     "output_type": "stream",
     "text": [
      "1 2 3 4 5 "
     ]
    }
   ],
   "source": [
    "for i in range(3, 6):\n",
    "    print(i,end = ' ')\n",
    "    "
   ]
  },
  {
   "cell_type": "markdown",
   "metadata": {},
   "source": [
    "#### While Loops:\n",
    "\n",
    "A \"while\" loop is used when you want to repeatedly execute a block of code as long as a certain condition remains True. \n",
    "\n",
    "It's important to ensure that the condition eventually becomes False to avoid an infinite loop.\n",
    "\n",
    "Here's the basic syntax of a \"while\" loop:"
   ]
  },
  {
   "cell_type": "markdown",
   "metadata": {},
   "source": [
    "--------------------------------------------------\n",
    "`while` (condition):\n",
    "    # Code to be executed while the condition is True\n",
    "    \n",
    "--------------------------------------------------------"
   ]
  },
  {
   "cell_type": "markdown",
   "metadata": {},
   "source": [
    "Here's an example that prints numbers from 1 to 5 using a \"while\" loop:"
   ]
  },
  {
   "cell_type": "code",
   "execution_count": 3,
   "metadata": {},
   "outputs": [
    {
     "name": "stdout",
     "output_type": "stream",
     "text": [
      "1\n",
      "2\n",
      "3\n",
      "4\n",
      "5\n"
     ]
    }
   ],
   "source": [
    "i = 1\n",
    "while i <= 5:\n",
    "    print(i)\n",
    "    i += 1"
   ]
  },
  {
   "cell_type": "markdown",
   "metadata": {},
   "source": [
    "In this example, the condition i <= 5 is checked before each iteration, and the loop continues as long as the condition is True."
   ]
  },
  {
   "cell_type": "markdown",
   "metadata": {},
   "source": [
    "*************************************************************************\n",
    "Loops can be further enhanced with various control statements like break and continue:\n",
    "\n",
    "#### break statement: \n",
    "\n",
    "It is used to exit the loop prematurely if a certain condition is met. \n",
    "\n",
    "For example, you can use it to stop a loop when a specific value is found.\n",
    "\n",
    "#### continue statement: \n",
    "\n",
    "It is used to skip the current iteration of a loop and move to the next one. \n",
    "\n",
    "It is typically used to avoid executing certain code under specific conditions.\n",
    "\n",
    "Here's an example of using break and continue:"
   ]
  },
  {
   "cell_type": "code",
   "execution_count": 7,
   "metadata": {},
   "outputs": [
    {
     "name": "stdout",
     "output_type": "stream",
     "text": [
      "1\n",
      "3\n"
     ]
    }
   ],
   "source": [
    "for i in range(1, 11):\n",
    "    if i == 5:\n",
    "        break  # This will exit the loop when i is 5\n",
    "    if i % 2 == 0:\n",
    "        continue  # This will skip even numbers\n",
    "    print(i)\n",
    "    \n",
    "    "
   ]
  },
  {
   "cell_type": "markdown",
   "metadata": {},
   "source": [
    "This code will print odd numbers from 1 to 9 and exit the loop when i becomes 5."
   ]
  }
 ],
 "metadata": {
  "kernelspec": {
   "display_name": "Python 3",
   "language": "python",
   "name": "python3"
  },
  "language_info": {
   "codemirror_mode": {
    "name": "ipython",
    "version": 3
   },
   "file_extension": ".py",
   "mimetype": "text/x-python",
   "name": "python",
   "nbconvert_exporter": "python",
   "pygments_lexer": "ipython3",
   "version": "3.8.3"
  }
 },
 "nbformat": 4,
 "nbformat_minor": 4
}
