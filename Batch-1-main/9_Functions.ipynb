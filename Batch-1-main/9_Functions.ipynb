{
 "cells": [
  {
   "cell_type": "markdown",
   "metadata": {},
   "source": [
    "# Functions in Python"
   ]
  },
  {
   "cell_type": "markdown",
   "metadata": {},
   "source": [
    "Functions:\n",
    "\n",
    "1. Defining\n",
    "2. Parameters and Arguments\n",
    "3. Function call\n",
    "4. Return Statement\n",
    "5. Scope\n",
    "6. Recursion\n",
    "7. Importing\n",
    "8. lambda functions"
   ]
  },
  {
   "cell_type": "markdown",
   "metadata": {},
   "source": [
    "#### Function Definition:\n",
    "\n",
    "You define a function using the def keyword, followed by the function name and a set of parentheses. The function name should follow the same rules as variable names."
   ]
  },
  {
   "cell_type": "code",
   "execution_count": 1,
   "metadata": {},
   "outputs": [],
   "source": [
    "def greet(name):\n",
    "    print(f\"Hello, {name}!\")"
   ]
  },
  {
   "cell_type": "markdown",
   "metadata": {},
   "source": [
    "In this example, we define a function called greet that takes one parameter name.\n"
   ]
  },
  {
   "cell_type": "markdown",
   "metadata": {},
   "source": [
    "#### Function Parameters:\n",
    "\n",
    "Parameters are variables that are used to pass data into a function. \n",
    "They are enclosed in the parentheses of the function definition. \n",
    "You can have multiple parameters separated by commas."
   ]
  },
  {
   "cell_type": "code",
   "execution_count": null,
   "metadata": {},
   "outputs": [],
   "source": [
    "def add(a, b):\n",
    "    result = a + b\n",
    "    return result"
   ]
  },
  {
   "cell_type": "markdown",
   "metadata": {},
   "source": [
    "In this example, the add function takes two parameters, a and b."
   ]
  },
  {
   "cell_type": "markdown",
   "metadata": {},
   "source": [
    "#### Function Body:\n",
    "\n",
    "The function body is indented under the def statement and contains the code that is executed when the function is called."
   ]
  },
  {
   "cell_type": "markdown",
   "metadata": {},
   "source": [
    "def square(x):\n",
    "    return x * x\n",
    "Here, the square function calculates the square of the input x and returns the result."
   ]
  },
  {
   "cell_type": "markdown",
   "metadata": {},
   "source": [
    "#### Return Statement:\n",
    "\n",
    "Functions can return values using the return statement. This allows the function to produce a result that can be used elsewhere in your code.\n"
   ]
  },
  {
   "cell_type": "code",
   "execution_count": null,
   "metadata": {},
   "outputs": [],
   "source": [
    "def multiply(a, b):\n",
    "    result = a * b\n",
    "    return result"
   ]
  },
  {
   "cell_type": "markdown",
   "metadata": {},
   "source": [
    "The multiply function returns the product of a and b."
   ]
  },
  {
   "cell_type": "markdown",
   "metadata": {},
   "source": [
    "#### Function Call:\n",
    "\n",
    "To use a function, you call it by using its name followed by parentheses. \n",
    "If the function has parameters, you provide values for those parameters inside the parentheses."
   ]
  },
  {
   "cell_type": "code",
   "execution_count": null,
   "metadata": {},
   "outputs": [],
   "source": [
    "result = multiply(5, 3)"
   ]
  },
  {
   "cell_type": "markdown",
   "metadata": {},
   "source": [
    "Here, we call the multiply function with 5 and 3 as arguments, and the result is stored in the result variable."
   ]
  },
  {
   "cell_type": "markdown",
   "metadata": {},
   "source": [
    "#### Function Documentation (Docstring):\n",
    "\n",
    "It's a good practice to provide documentation for your functions using docstrings. Docstrings are triple-quoted strings that explain what the function does.\n"
   ]
  },
  {
   "cell_type": "markdown",
   "metadata": {},
   "source": [
    "def greet(name):\n",
    "    \"\"\"\n",
    "    This function greets the person with the provided name.\n",
    "    \"\"\"\n",
    "    print(f\"Hello, {name}!\")"
   ]
  },
  {
   "cell_type": "markdown",
   "metadata": {},
   "source": [
    "\n",
    "This helps other developers (and yourself) understand the purpose of the function.\n",
    "\n"
   ]
  },
  {
   "cell_type": "markdown",
   "metadata": {},
   "source": [
    "#### Default Arguments:\n",
    "You can provide default values for function parameters. If a value is not provided when calling the function, the default value is used."
   ]
  },
  {
   "cell_type": "code",
   "execution_count": null,
   "metadata": {
    "vscode": {
     "languageId": "plaintext"
    }
   },
   "outputs": [],
   "source": [
    "def power(base, exponent=2):\n",
    "    return base ** exponent"
   ]
  },
  {
   "cell_type": "markdown",
   "metadata": {},
   "source": [
    "   \n",
    "Here, if you don't provide an exponent when calling the power function, it will default to 2.\n"
   ]
  },
  {
   "cell_type": "markdown",
   "metadata": {},
   "source": [
    "result = power(3)  # Uses the default exponent of 2"
   ]
  },
  {
   "cell_type": "markdown",
   "metadata": {},
   "source": [
    "#### Keyword Arguments:\n",
    "\n",
    "You can also call a function using keyword arguments, where you specify the parameter name followed by the value.\n",
    "\n"
   ]
  },
  {
   "cell_type": "code",
   "execution_count": null,
   "metadata": {},
   "outputs": [],
   "source": [
    "result = power(base=4, exponent=3)"
   ]
  },
  {
   "cell_type": "markdown",
   "metadata": {},
   "source": [
    "This allows you to provide arguments out of order, which can be helpful when a function has many parameters."
   ]
  },
  {
   "cell_type": "markdown",
   "metadata": {},
   "source": [
    "#### Variable Scope:\n",
    "Variables defined inside a function are in the local scope of that function and are not accessible outside of it. \n",
    "Variables defined outside of any function are in the global scope and can be accessed from any function."
   ]
  },
  {
   "cell_type": "code",
   "execution_count": null,
   "metadata": {},
   "outputs": [],
   "source": [
    "global_var = 10\n",
    "\n",
    "def demo_function():\n",
    "    local_var = 5\n",
    "    print(global_var)  # Accessible\n",
    "    print(local_var)   # Accessible\n",
    "\n",
    "print(global_var)  # Accessible\n",
    "print(local_var)   # Raises an error (NameError)\n"
   ]
  },
  {
   "cell_type": "markdown",
   "metadata": {},
   "source": [
    "#### Lambda Functions:\n",
    "\n",
    "\n",
    "Lambda functions are small, anonymous functions defined using the lambda keyword. \n",
    "They are typically used for simple operations.\n",
    "In this example, double is a lambda function that doubles the input value x.\n",
    "\n"
   ]
  },
  {
   "cell_type": "code",
   "execution_count": 7,
   "metadata": {},
   "outputs": [
    {
     "data": {
      "text/plain": [
       "26"
      ]
     },
     "execution_count": 7,
     "metadata": {},
     "output_type": "execute_result"
    }
   ],
   "source": [
    "double = lambda x: x*2 \n"
   ]
  },
  {
   "cell_type": "markdown",
   "metadata": {},
   "source": [
    "#### Recursion:\n",
    "\n",
    "Functions can call themselves. This is known as recursion."
   ]
  },
  {
   "cell_type": "code",
   "execution_count": null,
   "metadata": {
    "vscode": {
     "languageId": "plaintext"
    }
   },
   "outputs": [],
   "source": [
    "def factorial(n):\n",
    "    if n == 0:\n",
    "        return 1\n",
    "    else:\n",
    "        return n * factorial(n - 1)"
   ]
  },
  {
   "cell_type": "markdown",
   "metadata": {},
   "source": [
    "This factorial function calculates the factorial of a number using recursion."
   ]
  },
  {
   "cell_type": "markdown",
   "metadata": {},
   "source": []
  }
 ],
 "metadata": {
  "kernelspec": {
   "display_name": "base",
   "language": "python",
   "name": "python3"
  },
  "language_info": {
   "codemirror_mode": {
    "name": "ipython",
    "version": 3
   },
   "file_extension": ".py",
   "mimetype": "text/x-python",
   "name": "python",
   "nbconvert_exporter": "python",
   "pygments_lexer": "ipython3",
   "version": "3.8.8"
  }
 },
 "nbformat": 4,
 "nbformat_minor": 2
}
