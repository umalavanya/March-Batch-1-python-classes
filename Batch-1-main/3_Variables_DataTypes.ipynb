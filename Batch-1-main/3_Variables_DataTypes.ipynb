{
 "cells": [
  {
   "cell_type": "markdown",
   "metadata": {},
   "source": [
    "# Variables"
   ]
  },
  {
   "cell_type": "markdown",
   "metadata": {},
   "source": [
    "Variables in programming are used to store and manage data. They serve as symbolic names or labels for values, making it easier to work with data in your code. Variables allow you to store, manipulate, and retrieve data as needed. In Python, variables are defined by assigning a value to a name.\n",
    "\n",
    "Here's a brief explanation and an example in Python:\n",
    "\n",
    "#### Variable Declaration: \n",
    "\n",
    "You declare a variable by assigning a value to it using the assignment operator =.\n",
    "\n",
    "#### Variable Names: \n",
    "\n",
    "###### Variable names must follow certain rules:\n",
    "They can only contain letters (A-Z, a-z), digits(0-9), and underscores(_).\n",
    "\n",
    "They cannot start with a number.\n",
    "\n",
    "They are case-sensitive (e.g., myVar and myvar are different variables).\n",
    "\n",
    "They can not contain any special charaters (e.g., @ # % ^ * ).\n",
    "\n",
    "They can not contain White spaces.\n",
    "\n",
    "#### Assigning Values: \n",
    "\n",
    "You can assign values of different data types, such as integers, strings, floats, booleans, lists, dictionaries, and more.\n",
    "\n",
    "#### Variable Usage: \n",
    "\n",
    "Once you've assigned a value to a variable, you can use the variable in your code to perform operations or access its value."
   ]
  },
  {
   "cell_type": "code",
   "execution_count": 14,
   "metadata": {
    "scrolled": true
   },
   "outputs": [
    {
     "name": "stdout",
     "output_type": "stream",
     "text": [
      "Name: Arun\n",
      "Age: 30\n",
      "Height: 1.75\n",
      "Is a student? True\n",
      "Updated Age: 35\n",
      "Updated Height: 3.5\n",
      "New Name: Vijay\n"
     ]
    }
   ],
   "source": [
    "# Variable declaration and assignment\n",
    "name = \"Arun\"\n",
    "age = 30\n",
    "height = 1.75\n",
    "is_student = True\n",
    "\n",
    "# Variable usage\n",
    "print(\"Name:\", name)\n",
    "print(\"Age:\", age)\n",
    "print(\"Height:\", height)\n",
    "print(\"Is a student?\", is_student)\n",
    "\n",
    "# Modifying variables\n",
    "age = age + 5  # Incrementing the age variable\n",
    "height = height * 2  # Doubling the height variable\n",
    "\n",
    "# Variable reassignment\n",
    "name = \"Vijay\"  # Changing the name variable\n",
    "\n",
    "# Display modified values\n",
    "print(\"Updated Age:\", age)\n",
    "print(\"Updated Height:\", height)\n",
    "print(\"New Name:\", name)\n"
   ]
  },
  {
   "cell_type": "markdown",
   "metadata": {},
   "source": [
    "#### examples for invalid variables"
   ]
  },
  {
   "cell_type": "code",
   "execution_count": 18,
   "metadata": {
    "scrolled": true
   },
   "outputs": [
    {
     "ename": "SyntaxError",
     "evalue": "invalid syntax (<ipython-input-18-c8d7d88a09fd>, line 1)",
     "output_type": "error",
     "traceback": [
      "\u001b[1;36m  File \u001b[1;32m\"<ipython-input-18-c8d7d88a09fd>\"\u001b[1;36m, line \u001b[1;32m1\u001b[0m\n\u001b[1;33m    2number = 2\u001b[0m\n\u001b[1;37m     ^\u001b[0m\n\u001b[1;31mSyntaxError\u001b[0m\u001b[1;31m:\u001b[0m invalid syntax\n"
     ]
    }
   ],
   "source": [
    "2number = 2"
   ]
  },
  {
   "cell_type": "code",
   "execution_count": 19,
   "metadata": {
    "scrolled": true
   },
   "outputs": [
    {
     "ename": "SyntaxError",
     "evalue": "cannot assign to operator (<ipython-input-19-853b4993ef74>, line 1)",
     "output_type": "error",
     "traceback": [
      "\u001b[1;36m  File \u001b[1;32m\"<ipython-input-19-853b4993ef74>\"\u001b[1;36m, line \u001b[1;32m1\u001b[0m\n\u001b[1;33m    new-number = 10\u001b[0m\n\u001b[1;37m    ^\u001b[0m\n\u001b[1;31mSyntaxError\u001b[0m\u001b[1;31m:\u001b[0m cannot assign to operator\n"
     ]
    }
   ],
   "source": [
    "new-number = 10"
   ]
  },
  {
   "cell_type": "code",
   "execution_count": 20,
   "metadata": {
    "scrolled": true
   },
   "outputs": [
    {
     "ename": "SyntaxError",
     "evalue": "invalid syntax (<ipython-input-20-600a30eb1ae8>, line 1)",
     "output_type": "error",
     "traceback": [
      "\u001b[1;36m  File \u001b[1;32m\"<ipython-input-20-600a30eb1ae8>\"\u001b[1;36m, line \u001b[1;32m1\u001b[0m\n\u001b[1;33m    for = \"hello\"\u001b[0m\n\u001b[1;37m        ^\u001b[0m\n\u001b[1;31mSyntaxError\u001b[0m\u001b[1;31m:\u001b[0m invalid syntax\n"
     ]
    }
   ],
   "source": [
    "for = \"hello\""
   ]
  },
  {
   "cell_type": "code",
   "execution_count": 22,
   "metadata": {},
   "outputs": [
    {
     "ename": "SyntaxError",
     "evalue": "invalid syntax (<ipython-input-22-d27ed3d4ec9d>, line 1)",
     "output_type": "error",
     "traceback": [
      "\u001b[1;36m  File \u001b[1;32m\"<ipython-input-22-d27ed3d4ec9d>\"\u001b[1;36m, line \u001b[1;32m1\u001b[0m\n\u001b[1;33m    my variable = 23\u001b[0m\n\u001b[1;37m       ^\u001b[0m\n\u001b[1;31mSyntaxError\u001b[0m\u001b[1;31m:\u001b[0m invalid syntax\n"
     ]
    }
   ],
   "source": [
    "my variable = 23"
   ]
  },
  {
   "cell_type": "markdown",
   "metadata": {},
   "source": [
    "# Data Types\n"
   ]
  },
  {
   "cell_type": "markdown",
   "metadata": {},
   "source": [
    "In Python, data types define the type of data that a variable can hold or operate on. Understanding data types is crucial because it helps you work with data more effectively. Here are some common data types in Python:"
   ]
  },
  {
   "cell_type": "markdown",
   "metadata": {},
   "source": [
    "\n",
    "- Numeric\n",
    "     - Integer\n",
    "     - Float\n",
    "     - Complex\n",
    "- Boolean\n",
    "- Sequence\n",
    "     - Strings\n",
    "     - Lists\n",
    "     - Tuples\n",
    "- Sets\n",
    "- Dictionaries\n"
   ]
  },
  {
   "cell_type": "raw",
   "metadata": {},
   "source": []
  },
  {
   "cell_type": "markdown",
   "metadata": {},
   "source": [
    "### Numeric Data Types:"
   ]
  },
  {
   "cell_type": "markdown",
   "metadata": {},
   "source": [
    "#### Integer: \n",
    "\n",
    "Integers represent whole numbers without decimal points. \n",
    "\n",
    "They can be positive or negative. \n",
    "\n",
    "For example, 5, -10, and 0 are integers.\n",
    "\n",
    "keyword: `int`."
   ]
  },
  {
   "cell_type": "code",
   "execution_count": 21,
   "metadata": {},
   "outputs": [
    {
     "name": "stdout",
     "output_type": "stream",
     "text": [
      "Addition: -5\n",
      "Subtraction: 5\n",
      "Multiplication: -50\n"
     ]
    }
   ],
   "source": [
    "# Define some integer variables\n",
    "x = 5\n",
    "y = -10\n",
    "z = 0\n",
    "\n",
    "# Perform arithmetic operations\n",
    "addition = x + y  # Result: -5\n",
    "subtraction = x - z  # Result: 5\n",
    "multiplication = x * y  # Result: -50\n",
    "\n",
    "# Print the results\n",
    "print(\"Addition:\", addition)\n",
    "print(\"Subtraction:\", subtraction)\n",
    "print(\"Multiplication:\", multiplication)"
   ]
  },
  {
   "cell_type": "markdown",
   "metadata": {},
   "source": [
    "#### Float: \n",
    "\n",
    "Floats represent numbers with decimal points. \n",
    "\n",
    "They can also be in exponential notation. \n",
    "\n",
    "For example, 3.14, -0.5, and 2.5e3 are floats.\n",
    "\n",
    "keyword: `float`."
   ]
  },
  {
   "cell_type": "code",
   "execution_count": 23,
   "metadata": {},
   "outputs": [
    {
     "name": "stdout",
     "output_type": "stream",
     "text": [
      "Circle Area: 12.56636\n",
      "Velocity: 29.43\n",
      "Temperature in Fahrenheit: 27.5\n"
     ]
    }
   ],
   "source": [
    "# Define some float variables\n",
    "pi = 3.14159\n",
    "gravity = 9.81\n",
    "temperature = -2.5\n",
    "\n",
    "# Perform arithmetic operations\n",
    "circle_area = pi * 2.0**2  # Calculate the area of a circle with radius 2.0\n",
    "velocity = gravity * 3.0  # Calculate the velocity of an object in free fall at 3 seconds\n",
    "celsius_to_fahrenheit = (temperature * 9/5) + 32  # Convert Celsius to Fahrenheit\n",
    "\n",
    "# Print the results\n",
    "print(\"Circle Area:\", circle_area)\n",
    "print(\"Velocity:\", velocity)\n",
    "print(\"Temperature in Fahrenheit:\", celsius_to_fahrenheit)\n"
   ]
  },
  {
   "cell_type": "markdown",
   "metadata": {},
   "source": [
    "#### Complex: \n",
    "\n",
    "Complex numbers are used to represent numbers with real and imaginary parts. \n",
    "\n",
    "They are created using the j or J suffix. \n",
    "\n",
    "For example, 3 + 2j represents a complex number with a real part of 3 and an imaginary part of 2.\n",
    "\n",
    "keyword: `complex`."
   ]
  },
  {
   "cell_type": "code",
   "execution_count": 25,
   "metadata": {},
   "outputs": [
    {
     "name": "stdout",
     "output_type": "stream",
     "text": [
      "z1: (3+2j)\n",
      "z2: (1-4j)\n",
      "Sum of z1 and z2: (4-2j)\n",
      "Product of z1 and z2: (11-10j)\n",
      "Conjugate of z1: (3-2j)\n"
     ]
    }
   ],
   "source": [
    "# Define complex number variables\n",
    "z1 = 3 + 2j\n",
    "z2 = 1 - 4j\n",
    "\n",
    "# Perform arithmetic operations with complex numbers\n",
    "sum_result = z1 + z2\n",
    "product_result = z1 * z2\n",
    "conjugate_result = z1.conjugate()\n",
    "\n",
    "# Print the results\n",
    "print(\"z1:\", z1)\n",
    "print(\"z2:\", z2)\n",
    "print(\"Sum of z1 and z2:\", sum_result)\n",
    "print(\"Product of z1 and z2:\", product_result)\n",
    "print(\"Conjugate of z1:\", conjugate_result)\n"
   ]
  },
  {
   "cell_type": "markdown",
   "metadata": {},
   "source": [
    "### Boolean Data Type:\n",
    "\n",
    "#### Boolean: \n",
    "\n",
    "Booleans are binary data types representing True or False. \n",
    "\n",
    "They are often used in conditional statements and comparisons to make decisions in your code.\n",
    "\n",
    "keywords: `bool` , `True`, `False`."
   ]
  },
  {
   "cell_type": "code",
   "execution_count": 26,
   "metadata": {},
   "outputs": [
    {
     "name": "stdout",
     "output_type": "stream",
     "text": [
      "This statement is true.\n",
      "This statement is also true.\n",
      "Logical AND result: False\n",
      "Logical OR result: True\n",
      "Logical NOT result: False\n"
     ]
    }
   ],
   "source": [
    "# Define Boolean variables\n",
    "is_true = True\n",
    "is_false = False\n",
    "\n",
    "# Use Boolean values in conditional statements\n",
    "if is_true:\n",
    "    print(\"This statement is true.\")\n",
    "\n",
    "if not is_false:\n",
    "    print(\"This statement is also true.\")\n",
    "\n",
    "# Perform logical operations\n",
    "result_and = is_true and is_false  # Logical AND (False)\n",
    "result_or = is_true or is_false  # Logical OR (True)\n",
    "result_not = not is_true  # Logical NOT (False)\n",
    "\n",
    "# Print the results\n",
    "print(\"Logical AND result:\", result_and)\n",
    "print(\"Logical OR result:\", result_or)\n",
    "print(\"Logical NOT result:\", result_not)\n"
   ]
  },
  {
   "cell_type": "markdown",
   "metadata": {},
   "source": [
    "### Sequence Data Types:"
   ]
  },
  {
   "cell_type": "markdown",
   "metadata": {},
   "source": [
    "#### Strings: \n",
    "\n",
    "Strings represent sequences of characters and are enclosed in single `'  '` or double `\"  \"` quotes. \n",
    "\n",
    "They are used for text and can be manipulated using various string operations.\n",
    "\n",
    "keyword: `str`."
   ]
  },
  {
   "cell_type": "code",
   "execution_count": 28,
   "metadata": {},
   "outputs": [
    {
     "name": "stdout",
     "output_type": "stream",
     "text": [
      "Full Greeting: Hello, Vijay. How are you today?\n",
      "First Letter: V\n",
      "Last Letter: y\n",
      "Uppercase Name: VIJAY\n",
      "Length of Name: 5\n"
     ]
    }
   ],
   "source": [
    "# Define string variables\n",
    "name = \"Vijay\"\n",
    "greeting = \"Hello!\"\n",
    "sentence = \"How are you today?\"\n",
    "\n",
    "# Concatenate strings\n",
    "full_greeting = greeting + name + \". \" + sentence\n",
    "\n",
    "# Access individual characters in a string\n",
    "first_letter = name[0]  # Access the first character (\"A\")\n",
    "last_letter = name[-1]  # Access the last character (\"e\")\n",
    "\n",
    "# String methods\n",
    "uppercase_name = name.upper()  # Convert to uppercase (\"ALICE\")\n",
    "length_of_name = len(name)  # Get the length of the string (5)\n",
    "\n",
    "# Print the results\n",
    "print(\"Full Greeting:\", full_greeting)\n",
    "print(\"First Letter:\", first_letter)\n",
    "print(\"Last Letter:\", last_letter)\n",
    "print(\"Uppercase Name:\", uppercase_name)\n",
    "print(\"Length of Name:\", length_of_name)\n"
   ]
  },
  {
   "cell_type": "markdown",
   "metadata": {},
   "source": [
    "#### Lists: \n",
    "\n",
    "Lists are ordered collections of values, separated by commas and enclosed in square brackets `[]`. \n",
    "\n",
    "Lists are mutable, which means you can add, remove, or change elements in a list.\n",
    "\n",
    "keyword: `list`."
   ]
  },
  {
   "cell_type": "code",
   "execution_count": 31,
   "metadata": {},
   "outputs": [
    {
     "name": "stdout",
     "output_type": "stream",
     "text": [
      "Flowers: ['jasmin', 'lily', 'rose', 'tulip', 'orchid']\n",
      "First Flower: jasmin\n",
      "Second Flower: rose\n",
      "Popped Flower: lotus\n",
      "Number of Flowers: 5\n"
     ]
    }
   ],
   "source": [
    "# Define a list\n",
    "flowers = [\"jasmin\", \"rose\", \"marigold\", \"tulip\"]\n",
    "\n",
    "# Access elements in a list by index\n",
    "first_flower = flowers[0]  # \"jasmin\"\n",
    "second_flower = flowers[1]  # \"rose\"\n",
    "\n",
    "# Modify elements in a list\n",
    "flowers[2] = \"lotus\"  # Change \"marigold\" to \"lotus\"\n",
    "\n",
    "# Add elements to a list\n",
    "flowers.append(\"orchid\")  # Add \"orchid\" to the end of the list\n",
    "flowers.insert(1, \"lily\")  # Insert \"lily\" at index 1\n",
    "\n",
    "# Remove elements from a list\n",
    "popped_flower = flowers.pop(3)  # Remove and return the element at index 3 (\"tulip\")\n",
    "\n",
    "# List length\n",
    "num_flowers = len(flowers)  # Get the number of elements in the list\n",
    "\n",
    "# Print the results\n",
    "print(\"Flowers:\", flowers)\n",
    "print(\"First Flower:\", first_flower)\n",
    "print(\"Second Flower:\", second_flower)\n",
    "print(\"Popped Flower:\", popped_flower)\n",
    "print(\"Number of Flowers:\", num_flowers)\n"
   ]
  },
  {
   "cell_type": "markdown",
   "metadata": {},
   "source": [
    "#### Tuples: \n",
    "\n",
    "Tuples are similar to lists but are immutable, meaning once you create a tuple, you cannot change its elements. \n",
    "\n",
    "Tuples are enclosed in parentheses `( )`.\n",
    "\n",
    "keyword: `tuple`."
   ]
  },
  {
   "cell_type": "code",
   "execution_count": 32,
   "metadata": {},
   "outputs": [
    {
     "name": "stdout",
     "output_type": "stream",
     "text": [
      "3\n",
      "4\n",
      "Coordinates: (3, 4)\n",
      "x: 3\n",
      "y: 4\n",
      "Person: ('Manoj', 30, 'New Delhi')\n",
      "Name: Manoj\n",
      "Age: 30\n",
      "City: New Delhi\n"
     ]
    }
   ],
   "source": [
    "# Define a tuple\n",
    "coordinates = (3, 4)\n",
    "\n",
    "# Access elements in a tuple by index\n",
    "x = coordinates[0]  # Access the first element (3)\n",
    "y = coordinates[1]  # Access the second element (4)\n",
    "\n",
    "# Unpack a tuple into separate variables\n",
    "x, y = coordinates\n",
    "\n",
    "# Tuples are immutable\n",
    "# Uncommenting the line below will result in a TypeError\n",
    "# coordinates[0] = 5\n",
    "\n",
    "# Iterate through a tuple\n",
    "for coordinate in coordinates:\n",
    "    print(coordinate)\n",
    "\n",
    "# Tuple with mixed data types\n",
    "person = (\"Manoj\", 30, \"New Delhi\")\n",
    "\n",
    "# Accessing elements in a tuple with mixed data types\n",
    "name = person[0]  # \"Manoj\"\n",
    "age = person[1]  # 30\n",
    "city = person[2]  # \"New Delhi\"\n",
    "\n",
    "# Print the results\n",
    "print(\"Coordinates:\", coordinates)\n",
    "print(\"x:\", x)\n",
    "print(\"y:\", y)\n",
    "print(\"Person:\", person)\n",
    "print(\"Name:\", name)\n",
    "print(\"Age:\", age)\n",
    "print(\"City:\", city)\n"
   ]
  },
  {
   "cell_type": "markdown",
   "metadata": {},
   "source": [
    "### Sets Data Type:"
   ]
  },
  {
   "cell_type": "markdown",
   "metadata": {},
   "source": [
    "#### Sets: \n",
    "\n",
    "Sets are unordered collections of unique elements, enclosed in curly braces `{ }`. \n",
    "\n",
    "They do not allow duplicate values.\n",
    "\n",
    "you can perform set operations like union, intersection, and difference on them.\n",
    "\n",
    "keyword: `set`."
   ]
  },
  {
   "cell_type": "code",
   "execution_count": 33,
   "metadata": {},
   "outputs": [
    {
     "name": "stdout",
     "output_type": "stream",
     "text": [
      "List of Flowers:\n",
      "tulip\n",
      "lily\n",
      "rose\n",
      "daffodil\n",
      "daisy\n",
      "Has Rose: True\n",
      "Has Lily: False\n",
      "Updated List of Flowers: {'tulip', 'lily', 'rose', 'daffodil', 'daisy'}\n",
      "Common Favorite Flowers: {'rose', 'tulip', 'lily'}\n"
     ]
    }
   ],
   "source": [
    "# Define a set of flowers\n",
    "flowers = {\"rose\", \"tulip\", \"daisy\", \"sunflower\"}\n",
    "\n",
    "set()\n",
    "\n",
    "# Check if a flower is in the set\n",
    "has_rose = \"rose\" in flowers  # True\n",
    "has_lily = \"lily\" in flowers  # False\n",
    "\n",
    "# Add more flowers to the set\n",
    "flowers.add(\"lily\")\n",
    "flowers.update({\"daffodil\", \"tulip\"})\n",
    "\n",
    "# Remove a flower from the set\n",
    "flowers.remove(\"sunflower\")\n",
    "\n",
    "# Iterate through the set of flowers\n",
    "print(\"List of Flowers:\")\n",
    "for flower in flowers:\n",
    "    print(flower)\n",
    "\n",
    "# Create a set of favorite flowers\n",
    "favorite_flowers = {\"rose\", \"tulip\", \"lily\"}\n",
    "\n",
    "# Find common favorite flowers with the set of flowers\n",
    "common_favorite_flowers = favorite_flowers.intersection(flowers)\n",
    "\n",
    "# Print the results\n",
    "print(\"Has Rose:\", has_rose)\n",
    "print(\"Has Lily:\", has_lily)\n",
    "print(\"Updated List of Flowers:\", flowers)\n",
    "print(\"Common Favorite Flowers:\", common_favorite_flowers)\n"
   ]
  },
  {
   "cell_type": "markdown",
   "metadata": {},
   "source": [
    "### Dictionaries Data Type:"
   ]
  },
  {
   "cell_type": "markdown",
   "metadata": {},
   "source": [
    "#### Dictionaries: \n",
    "\n",
    "Dictionaries are collections of key-value pairs, enclosed in curly braces `{  }`. \n",
    "\n",
    "Each key in a dictionary maps to a value, and the keys are unique within the dictionary. \n",
    "\n",
    "Dictionaries are used to store and retrieve data with a key for fast access.\n",
    "\n",
    "keyword: `dict`.\n",
    "\n",
    "These data types are fundamental in Python and are used for various purposes in programming. Understanding and working with these data types is essential for writing effective and efficient Python code."
   ]
  },
  {
   "cell_type": "code",
   "execution_count": 34,
   "metadata": {},
   "outputs": [
    {
     "name": "stdout",
     "output_type": "stream",
     "text": [
      "Flower Colors:\n",
      "rose: red\n",
      "daisy: white\n",
      "sunflower: yellow\n",
      "lily: white\n",
      "Rose Color: red\n",
      "Sunflower Color: yellow\n",
      "Has Daisy: True\n",
      "Updated Flower Colors: {'rose': 'red', 'daisy': 'white', 'sunflower': 'yellow', 'lily': 'white'}\n",
      "Flowers: dict_keys(['rose', 'daisy', 'sunflower', 'lily'])\n",
      "Colors: dict_values(['red', 'white', 'yellow', 'white'])\n"
     ]
    }
   ],
   "source": [
    "# Define a dictionary of flowers and their colors\n",
    "flower_colors = {\n",
    "    \"rose\": \"red\",\n",
    "    \"tulip\": \"various\",\n",
    "    \"daisy\": \"white\",\n",
    "    \"sunflower\": \"yellow\"\n",
    "}\n",
    "\n",
    "{}\n",
    "\n",
    "# Access values by using keys\n",
    "rose_color = flower_colors[\"rose\"]  # \"red\"\n",
    "sunflower_color = flower_colors[\"sunflower\"]  # \"yellow\"\n",
    "\n",
    "# Add a new flower to the dictionary\n",
    "flower_colors[\"lily\"] = \"white\"\n",
    "\n",
    "# Check if a flower is in the dictionary\n",
    "has_daisy = \"daisy\" in flower_colors  # True\n",
    "has_orchid = \"orchid\" in flower_colors  # False\n",
    "\n",
    "# Remove a flower from the dictionary\n",
    "del flower_colors[\"tulip\"]\n",
    "\n",
    "# Iterate through the dictionary\n",
    "print(\"Flower Colors:\")\n",
    "for flower, color in flower_colors.items():\n",
    "    print(f\"{flower}: {color}\")\n",
    "\n",
    "# Dictionary keys and values\n",
    "flowers = flower_colors.keys()\n",
    "colors = flower_colors.values()\n",
    "\n",
    "# Print the results\n",
    "print(\"Rose Color:\", rose_color)\n",
    "print(\"Sunflower Color:\", sunflower_color)\n",
    "print(\"Has Daisy:\", has_daisy)\n",
    "print(\"Updated Flower Colors:\", flower_colors)\n",
    "print(\"Flowers:\", flowers)\n",
    "print(\"Colors:\", colors)\n"
   ]
  }
 ],
 "metadata": {
  "kernelspec": {
   "display_name": "Python 3",
   "language": "python",
   "name": "python3"
  },
  "language_info": {
   "codemirror_mode": {
    "name": "ipython",
    "version": 3
   },
   "file_extension": ".py",
   "mimetype": "text/x-python",
   "name": "python",
   "nbconvert_exporter": "python",
   "pygments_lexer": "ipython3",
   "version": "3.8.3"
  }
 },
 "nbformat": 4,
 "nbformat_minor": 4
}
